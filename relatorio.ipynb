{
 "cells": [
  {
   "cell_type": "markdown",
   "metadata": {},
   "source": [
    "# Redes Neurais"
   ]
  },
  {
   "cell_type": "markdown",
   "metadata": {},
   "source": [
    "### Informações\n",
    "\n",
    "**Instituto Federal de Educação, Ciência e Tecnologia do Ceará** \\\n",
    "**Disciplina:** Inteligência Artificial \\\n",
    "**Professor:** Amauri Holanda de Souza Júnior \\\n",
    "**Dupla:**\n",
    "- Elias de Almeida Sombra Neto\n",
    "- Rai Ferreira Lima de Araújo"
   ]
  },
  {
   "cell_type": "markdown",
   "metadata": {},
   "source": [
    "### Questão 1: Regressão Linear\n",
    "\n",
    "Implemente um modelo de regressão linear. Para isso, utilize um conjunto de dados sintético gerado com a equação:\n",
    "\n",
    "<p align=\"center\">\n",
    "y = 3x + 5 + ε\n",
    "</p>\n",
    "\n",
    "Onde x segue distribuição uniforme entre -10 e 10 e ε é um ruído gaussiano com média zero e desvio padrao de 2.\n",
    "\n",
    "Faça os seguintes passos:\n",
    "\n",
    "1. Gere um conjunto de dados com pelo menos 100 pontos.\n",
    "2. Divida os dados em treino (80%) e teste (20%).\n",
    "3. Implemente modelos de regressão linear empregando:\n",
    "    - A solução de mínimos quadrados (pseudo-inversa).\n",
    "    - Uma rede neural com uma camada treinada via gradiente descendente utilizando MSE-Loss (Erro Quadrático Médio) e otimizador SGD.\n",
    "4. Apresente as soluções para cada um dos métodos acima.\n",
    "5. Avalie o desempenho dos modelos e visualize os resultados.\n"
   ]
  },
  {
   "cell_type": "code",
   "execution_count": 4,
   "metadata": {},
   "outputs": [
    {
     "ename": "ModuleNotFoundError",
     "evalue": "No module named 'torch'",
     "output_type": "error",
     "traceback": [
      "\u001b[1;31m---------------------------------------------------------------------------\u001b[0m",
      "\u001b[1;31mModuleNotFoundError\u001b[0m                       Traceback (most recent call last)",
      "Cell \u001b[1;32mIn[4], line 2\u001b[0m\n\u001b[0;32m      1\u001b[0m \u001b[38;5;28;01mimport\u001b[39;00m \u001b[38;5;21;01mos\u001b[39;00m\n\u001b[1;32m----> 2\u001b[0m \u001b[38;5;28;01mimport\u001b[39;00m \u001b[38;5;21;01mtorch\u001b[39;00m\n\u001b[0;32m      3\u001b[0m \u001b[38;5;28;01mimport\u001b[39;00m \u001b[38;5;21;01mnumpy\u001b[39;00m \u001b[38;5;28;01mas\u001b[39;00m \u001b[38;5;21;01mnp\u001b[39;00m\n\u001b[0;32m      4\u001b[0m \u001b[38;5;28;01mimport\u001b[39;00m \u001b[38;5;21;01mtorch\u001b[39;00m\u001b[38;5;21;01m.\u001b[39;00m\u001b[38;5;21;01mnn\u001b[39;00m \u001b[38;5;28;01mas\u001b[39;00m \u001b[38;5;21;01mnn\u001b[39;00m\n",
      "\u001b[1;31mModuleNotFoundError\u001b[0m: No module named 'torch'"
     ]
    }
   ],
   "source": [
    "import os\n",
    "import torch\n",
    "import numpy as np\n",
    "import torch.nn as nn\n",
    "import torch.optim as optim\n",
    "import matplotlib.pyplot as plt\n",
    "from sklearn.metrics import mean_squared_error\n",
    "from sklearn.utils import shuffle"
   ]
  },
  {
   "cell_type": "code",
   "execution_count": null,
   "metadata": {},
   "outputs": [],
   "source": [
    "os.makedirs(\"resultados\", exist_ok=True)"
   ]
  },
  {
   "cell_type": "code",
   "execution_count": null,
   "metadata": {},
   "outputs": [
    {
     "data": {
      "text/plain": [
       "<torch._C.Generator at 0x159ed375a50>"
      ]
     },
     "execution_count": 13,
     "metadata": {},
     "output_type": "execute_result"
    }
   ],
   "source": [
    "# Configurar sementes para reprodutibilidade\n",
    "np.random.seed(0)\n",
    "torch.manual_seed(0)"
   ]
  },
  {
   "cell_type": "code",
   "execution_count": null,
   "metadata": {},
   "outputs": [],
   "source": [
    "# Função para gerar dados sintéticos\n",
    "def generate_synthetic_data(N, a=3, b=5, sigma=2):\n",
    "    x = np.random.uniform(-10, 10, N)\n",
    "    epsilon = np.random.normal(0, sigma, N)\n",
    "    y = a * x + b + epsilon\n",
    "    return x, y"
   ]
  },
  {
   "cell_type": "code",
   "execution_count": null,
   "metadata": {},
   "outputs": [],
   "source": [
    "# Função para normalizar os dados\n",
    "def normalize_data(x_train, x_test):\n",
    "    mean = x_train.mean()\n",
    "    std = x_train.std()\n",
    "    x_train_normalized = (x_train - mean) / std\n",
    "    x_test_normalized = (x_test - mean) / std\n",
    "    return x_train_normalized, x_test_normalized"
   ]
  },
  {
   "cell_type": "code",
   "execution_count": null,
   "metadata": {},
   "outputs": [],
   "source": [
    "# Função para adicionar termo de bias\n",
    "def add_bias_term_torch(x):\n",
    "    ones = torch.ones((x.shape[0], 1))  # Criar uma coluna de 1s\n",
    "    return torch.cat((ones, x), dim=1)  # Concatenar no eixo das colunas (dim=1)"
   ]
  },
  {
   "cell_type": "code",
   "execution_count": null,
   "metadata": {},
   "outputs": [],
   "source": [
    "# Função para calcular a pseudo-inversa\n",
    "def calculate_pseudo_inverse_torch(X_train, y_train):\n",
    "    return torch.linalg.pinv(X_train) @ y_train  #"
   ]
  },
  {
   "cell_type": "code",
   "execution_count": null,
   "metadata": {},
   "outputs": [],
   "source": [
    "# Função para visualizar as perdas durante o treinamento\n",
    "def plot_losses(losses):\n",
    "    plt.plot(losses)\n",
    "    plt.xlabel('Épocas')\n",
    "    plt.ylabel('Perda')\n",
    "    plt.title('Perda durante o treinamento')\n",
    "    plt.grid(True)\n",
    "    plt.savefig(\"resultados/q1-visualizacao-de-perdas.png\")  \n",
    "    plt.show()"
   ]
  },
  {
   "cell_type": "code",
   "execution_count": null,
   "metadata": {},
   "outputs": [],
   "source": [
    "# Função para visualizar os resultados\n",
    "def plot_results(x, y, y_pred_pinv, y_pred_nn, train_size):\n",
    "    fig, axs = plt.subplots(1, 2, figsize=(14, 6))  \n",
    "\n",
    "    # Gráfico 1: Pseudo-Inversa\n",
    "    axs[0].scatter(x, y, label=\"Dados reais\", alpha=0.6, color='blue')  \n",
    "    axs[0].plot(x[train_size:], y_pred_pinv, label=\"Pseudo-Inversa\", color=\"red\", linewidth=2) \n",
    "    axs[0].set_title(\"Pseudo-Inversa\")\n",
    "    axs[0].set_xlabel(\"x\")\n",
    "    axs[0].set_ylabel(\"y\")\n",
    "    axs[0].grid(True)\n",
    "    axs[0].legend()\n",
    "\n",
    "    # Gráfico 2: Rede Neural\n",
    "    axs[1].scatter(x, y, label=\"Dados reais\", alpha=0.6, color='blue')  \n",
    "    axs[1].plot(x[train_size:], y_pred_nn, label=\"Rede Neural\", color=\"yellow\", linewidth=2)  \n",
    "    axs[1].set_title(\"Rede Neural\")\n",
    "    axs[1].set_xlabel(\"x\")\n",
    "    axs[1].set_ylabel(\"y\")\n",
    "    axs[1].grid(True)\n",
    "    axs[1].legend()\n",
    "\n",
    "    plt.suptitle(\"Regressão Linear: Pseudo-Inversa vs Rede Neural\", fontsize=16)\n",
    "    plt.tight_layout()  \n",
    "    plt.subplots_adjust(top=0.85) \n",
    "    plt.savefig(\"resultados/Q1-regressao_linear_comparacao.png\")\n",
    "    plt.show()  "
   ]
  },
  {
   "cell_type": "code",
   "execution_count": null,
   "metadata": {},
   "outputs": [],
   "source": [
    "# Implementação com Rede Neural\n",
    "class LinearRegressionNN(nn.Module):\n",
    "    def __init__(self):\n",
    "        super().__init__()\n",
    "        self.linear = nn.Linear(1, 1)  \n",
    "\n",
    "    def forward(self, x):\n",
    "        return self.linear(x)"
   ]
  },
  {
   "cell_type": "code",
   "execution_count": null,
   "metadata": {},
   "outputs": [],
   "source": [
    "# Função para treinar a rede neural\n",
    "def train_neural_network(X_train_torch, y_train_torch, epochs=1000, lr=0.01):\n",
    "    model = LinearRegressionNN()\n",
    "    criterion = nn.MSELoss()\n",
    "    optimizer = optim.SGD(model.parameters(), lr=lr)\n",
    "    losses = []\n",
    "    for epoch in range(epochs):\n",
    "        optimizer.zero_grad()\n",
    "        y_pred = model(X_train_torch)\n",
    "        loss = criterion(y_pred, y_train_torch)\n",
    "        loss.backward()\n",
    "        optimizer.step()\n",
    "        losses.append(loss.item())\n",
    "        if epoch % 100 == 0:\n",
    "         print(f'Época {epoch}, Erro: {loss.item():.4f}')\n",
    "\n",
    "    return model, losses"
   ]
  },
  {
   "cell_type": "code",
   "execution_count": null,
   "metadata": {},
   "outputs": [
    {
     "name": "stdout",
     "output_type": "stream",
     "text": [
      "Coeficientes da regressão (Mínimos Quadrados): [ 3.3604715 17.999378 ]\n",
      "Época 0, Erro: 335.8747\n",
      "Época 100, Erro: 9.4955\n",
      "Época 200, Erro: 3.7551\n",
      "Época 300, Erro: 3.6542\n",
      "Época 400, Erro: 3.6524\n",
      "Época 500, Erro: 3.6524\n",
      "Época 600, Erro: 3.6524\n",
      "Época 700, Erro: 3.6524\n",
      "Época 800, Erro: 3.6524\n",
      "Época 900, Erro: 3.6524\n"
     ]
    },
    {
     "data": {
      "image/png": "[encoded data removed]",
      "text/plain": [
       "<Figure size 640x480 with 1 Axes>"
      ]
     },
     "metadata": {},
     "output_type": "display_data"
    },
    {
     "name": "stdout",
     "output_type": "stream",
     "text": [
      "Coeficientes da Rede Neural: w = 17.999332427978516 , b = 3.360466241836548\n",
      "MSE (Pseudo-Inversa): 5.4001\n",
      "MSE (Rede Neural): 5.4001\n"
     ]
    },
    {
     "data": {
      "image/png": "[encoded data removed]",
      "text/plain": [
       "<Figure size 1400x600 with 2 Axes>"
      ]
     },
     "metadata": {},
     "output_type": "display_data"
    }
   ],
   "source": [
    "N = 100\n",
    "x, y = generate_synthetic_data(N)\n",
    "\n",
    "x, y = shuffle(x, y, random_state=0)\n",
    "\n",
    "# Dividir os dados em treino e teste\n",
    "train_size = int(0.8 * len(x))\n",
    "x_train, x_test = x[:train_size], x[train_size:]\n",
    "y_train, y_test = y[:train_size], y[train_size:]\n",
    "\n",
    "# Dividir os dados em treino (80%) e teste (20%)\n",
    "train_size = int(0.8 * N)\n",
    "x_train, x_test = x[:train_size], x[train_size:]\n",
    "y_train, y_test = y[:train_size], y[train_size:]\n",
    "\n",
    "x_train, x_test = normalize_data(x_train, x_test)\n",
    "\n",
    "X_train = add_bias_term_torch(torch.tensor(x_train, dtype=torch.float32).view(-1, 1))\n",
    "X_test = add_bias_term_torch(torch.tensor(x_test, dtype=torch.float32).view(-1, 1))\n",
    "\n",
    "# Regressão Linear via Pseudo-Inversa\n",
    "theta = calculate_pseudo_inverse_torch(X_train, torch.tensor(y_train, dtype=torch.float32).view(-1, 1))\n",
    "print(\"Coeficientes da regressão (Mínimos Quadrados):\", theta.numpy().flatten())\n",
    "\n",
    "# Previsões no conjunto de teste\n",
    "y_pred_pinv = X_test @ theta\n",
    "\n",
    "X_train_torch = torch.tensor(x_train, dtype=torch.float32).view(-1, 1)\n",
    "y_train_torch = torch.tensor(y_train, dtype=torch.float32).view(-1, 1)\n",
    "X_test_torch = torch.tensor(x_test, dtype=torch.float32).view(-1, 1)\n",
    "\n",
    "# Treinamento da Rede Neural\n",
    "model, losses = train_neural_network(X_train_torch, y_train_torch)\n",
    "\n",
    "plot_losses(losses)\n",
    "\n",
    "w_nn, b_nn = model.linear.weight.item(), model.linear.bias.item()\n",
    "print(\"Coeficientes da Rede Neural: w =\", w_nn, \", b =\", b_nn)\n",
    "\n",
    "y_pred_nn = model(X_test_torch).detach().numpy()\n",
    "\n",
    "mse_pinv = mean_squared_error(y_test, y_pred_pinv)\n",
    "mse_nn = mean_squared_error(y_test, y_pred_nn)\n",
    "\n",
    "print(f\"MSE (Pseudo-Inversa): {mse_pinv:.4f}\")\n",
    "print(f\"MSE (Rede Neural): {mse_nn:.4f}\")\n",
    "\n",
    "plot_results(x, y, y_pred_pinv, y_pred_nn, train_size)"
   ]
  },
  {
   "cell_type": "markdown",
   "metadata": {},
   "source": [
    "### Questão 2: Regressão Logística para Classificação Binária\n",
    "\n",
    "Implemente um modelo de regressao logistica para resolver um problema de classificação binária utilizando um conjunto de dados sintético.\n",
    "\n",
    "Faça os seguintes passos:\n",
    "- Utilize a função  make_classification da biblioteca Scikit-Learn para gerar um conjunto de dados com 500 amostras, 2 variáveis preditoras e 2 classes.\n",
    "- Divida os dados em treino (70%) e teste (30%).\n",
    "- Implemente um modelo de regressão logística.\n",
    "- Treine o modelo utilizando gradiente descendente (versão não-estocástica) (conforme visto em sala).\n",
    "- Avalie a acurácia no conjunto de teste e visualize a fronteira de decisão do classificador.\n"
   ]
  },
  {
   "cell_type": "code",
   "execution_count": null,
   "metadata": {},
   "outputs": [],
   "source": [
    "import os\n",
    "import numpy as np\n",
    "import matplotlib.pyplot as plt\n",
    "from sklearn.datasets import make_classification\n",
    "from sklearn.model_selection import train_test_split"
   ]
  },
  {
   "cell_type": "code",
   "execution_count": null,
   "metadata": {},
   "outputs": [],
   "source": [
    "os.makedirs(\"resultados\", exist_ok=True)"
   ]
  },
  {
   "cell_type": "code",
   "execution_count": null,
   "metadata": {},
   "outputs": [],
   "source": [
    "np.random.seed(0)\n",
    "X, y = make_classification(n_samples=500, n_features=2, n_classes=2, n_redundant=0, random_state=42)"
   ]
  },
  {
   "cell_type": "code",
   "execution_count": null,
   "metadata": {},
   "outputs": [],
   "source": [
    "# Dividindo os dados em treino (70%) e teste (30%)\n",
    "X_train, X_test, y_train, y_test = train_test_split(X, y, test_size=0.3, random_state=42)"
   ]
  },
  {
   "cell_type": "code",
   "execution_count": null,
   "metadata": {},
   "outputs": [],
   "source": [
    "# Implementando a Regressão Logística com Gradiente Descendente usando entropia cruzada\n",
    "class LogisticRegressionGD:\n",
    "    def __init__(self, learning_rate=0.01, epochs=1000):\n",
    "        self.learning_rate = learning_rate\n",
    "        self.epochs = epochs\n",
    "        self.theta = None\n",
    "\n",
    "    def fit(self, X, y):\n",
    "        # Adicionando um termo de viés (coluna de 1s)\n",
    "        X = np.c_[np.ones(X.shape[0]), X]\n",
    "        self.theta = np.zeros(X.shape[1])\n",
    "\n",
    "        # Treinamento via Gradiente Descendente Batch\n",
    "        for _ in range(self.epochs):\n",
    "            z = X @ self.theta\n",
    "            h = z  # Sem a função sigmoide\n",
    "            gradient = (1 / len(y)) * X.T @ (h - y)\n",
    "            self.theta -= self.learning_rate * gradient\n",
    "\n",
    "    def predict(self, X):\n",
    "        X = np.c_[np.ones(X.shape[0]), X]  \n",
    "        return (X @ self.theta >= 0.5).astype(int)"
   ]
  },
  {
   "cell_type": "code",
   "execution_count": null,
   "metadata": {},
   "outputs": [],
   "source": [
    "# Criando e treinando o modelo\n",
    "model = LogisticRegressionGD(learning_rate=0.1, epochs=1000)\n",
    "model.fit(X_train, y_train)\n",
    "\n",
    "# Avaliando a acurácia no conjunto de teste\n",
    "y_pred = model.predict(X_test)\n",
    "accuracy = np.mean(y_pred == y_test)\n",
    "print(f\"Acurácia no conjunto de teste: {accuracy:.4f}\")\n",
    "\n",
    "# Fronteira de decisão\n",
    "x_min, x_max = X[:, 0].min() - 1, X[:, 0].max() + 1\n",
    "y_min, y_max = X[:, 1].min() - 1, X[:, 1].max() + 1\n",
    "xx, yy = np.meshgrid(np.linspace(x_min, x_max, 100), np.linspace(y_min, y_max, 100))\n",
    "Z = model.predict(np.c_[xx.ravel(), yy.ravel()])\n",
    "Z = Z.reshape(xx.shape)"
   ]
  },
  {
   "cell_type": "code",
   "execution_count": null,
   "metadata": {},
   "outputs": [],
   "source": [
    "plt.contourf(xx, yy, Z, alpha=0.3, cmap=\"coolwarm\")\n",
    "plt.scatter(X_test[:, 0], X_test[:, 1], c=y_test, cmap=\"coolwarm\", edgecolors=\"k\")\n",
    "plt.xlabel(\"Feature 1\")\n",
    "plt.ylabel(\"Feature 2\")\n",
    "plt.title(f\"Fronteira de decisão - Acurácia: {accuracy:.4f}\")\n",
    "plt.savefig(\"resultados/q2-fronteira-de-decisao.png\")\n",
    "plt.show()"
   ]
  },
  {
   "cell_type": "markdown",
   "metadata": {},
   "source": [
    "### Questão 3: Classificação Binária com uma MLP e Seleção de Neurônios\n",
    "\n",
    "Implemente uma rede neural do tipo MLP para a tarefa de classificação binária. Nesta questão, você deve usar um conjunto de validação para selecionar o número adequado de neurônios na camada oculta.\n",
    "\n",
    "Faça os seguintes passos:\n",
    "- Utilize a função make_moons da biblioteca Scikit-Learn para gerar um conjunto de dados com 500 amostras.\n",
    "- Divida os dados em treino (70%), validação (15%) e teste (15%).\n",
    "- Implemente uma MLP com:\n",
    "    - Uma camada oculta com n neurônios e ativação ReLU.\n",
    "    - Uma camada de saída com 1 neurônio e ativação sigmoid.\n",
    "    - Utilize a função de perda BCELoss e o otimizador Adam ou SGD.\n",
    "- Treine modelos com diferentes números de neurônios na camada oculta (exemplo: 5, 10, 20, 50).\n",
    "- Plote a evolução da função custo (loss) ao longo do treinamento (épocas).\n",
    "- Escolha o melhor número de neurônios com base na menor perda no conjunto de validação.\n",
    "- Avalie o modelo escolhido no conjunto de teste e visualize a fronteira de decisão."
   ]
  },
  {
   "cell_type": "code",
   "execution_count": 5,
   "metadata": {},
   "outputs": [
    {
     "ename": "ModuleNotFoundError",
     "evalue": "No module named 'torch'",
     "output_type": "error",
     "traceback": [
      "\u001b[1;31m---------------------------------------------------------------------------\u001b[0m",
      "\u001b[1;31mModuleNotFoundError\u001b[0m                       Traceback (most recent call last)",
      "Cell \u001b[1;32mIn[5], line 6\u001b[0m\n\u001b[0;32m      4\u001b[0m \u001b[38;5;28;01mfrom\u001b[39;00m \u001b[38;5;21;01msklearn\u001b[39;00m\u001b[38;5;21;01m.\u001b[39;00m\u001b[38;5;21;01mdatasets\u001b[39;00m \u001b[38;5;28;01mimport\u001b[39;00m make_moons\n\u001b[0;32m      5\u001b[0m \u001b[38;5;28;01mfrom\u001b[39;00m \u001b[38;5;21;01msklearn\u001b[39;00m\u001b[38;5;21;01m.\u001b[39;00m\u001b[38;5;21;01mmodel_selection\u001b[39;00m \u001b[38;5;28;01mimport\u001b[39;00m train_test_split\n\u001b[1;32m----> 6\u001b[0m \u001b[38;5;28;01mimport\u001b[39;00m \u001b[38;5;21;01mtorch\u001b[39;00m\n\u001b[0;32m      7\u001b[0m \u001b[38;5;28;01mimport\u001b[39;00m \u001b[38;5;21;01mtorch\u001b[39;00m\u001b[38;5;21;01m.\u001b[39;00m\u001b[38;5;21;01mnn\u001b[39;00m \u001b[38;5;28;01mas\u001b[39;00m \u001b[38;5;21;01mnn\u001b[39;00m\n\u001b[0;32m      8\u001b[0m \u001b[38;5;28;01mimport\u001b[39;00m \u001b[38;5;21;01mtorch\u001b[39;00m\u001b[38;5;21;01m.\u001b[39;00m\u001b[38;5;21;01moptim\u001b[39;00m \u001b[38;5;28;01mas\u001b[39;00m \u001b[38;5;21;01moptim\u001b[39;00m\n",
      "\u001b[1;31mModuleNotFoundError\u001b[0m: No module named 'torch'"
     ]
    }
   ],
   "source": [
    "import os\n",
    "import numpy as np\n",
    "import matplotlib.pyplot as plt\n",
    "from sklearn.datasets import make_moons\n",
    "from sklearn.model_selection import train_test_split\n",
    "import torch\n",
    "import torch.nn as nn\n",
    "import torch.optim as optim"
   ]
  },
  {
   "cell_type": "code",
   "execution_count": null,
   "metadata": {},
   "outputs": [],
   "source": [
    "os.makedirs(\"resultados\", exist_ok=True)"
   ]
  },
  {
   "cell_type": "code",
   "execution_count": null,
   "metadata": {},
   "outputs": [],
   "source": [
    "# Gerar dados\n",
    "X, y = make_moons(n_samples=500, noise=0.2, random_state=42)\n",
    "y = y.reshape(-1, 1)"
   ]
  },
  {
   "cell_type": "code",
   "execution_count": null,
   "metadata": {},
   "outputs": [],
   "source": [
    "# Divisão dos dados\n",
    "X_train, X_temp, y_train, y_temp = train_test_split(X, y, test_size=0.3, random_state=42)\n",
    "X_val, X_test, y_val, y_test = train_test_split(X_temp, y_temp, test_size=0.5, random_state=42)"
   ]
  },
  {
   "cell_type": "code",
   "execution_count": null,
   "metadata": {},
   "outputs": [],
   "source": [
    "# Converter para tensores\n",
    "def to_tensor(data):\n",
    "    return torch.tensor(data, dtype=torch.float32)\n",
    "\n",
    "X_train, y_train = to_tensor(X_train), to_tensor(y_train)\n",
    "X_val, y_val = to_tensor(X_val), to_tensor(y_val)\n",
    "X_test, y_test = to_tensor(X_test), to_tensor(y_test)"
   ]
  },
  {
   "cell_type": "code",
   "execution_count": null,
   "metadata": {},
   "outputs": [],
   "source": [
    "# Definição da rede MLP\n",
    "class MLP(nn.Module):\n",
    "    def __init__(self, n_neurons):\n",
    "        super(MLP, self).__init__()\n",
    "        self.hidden = nn.Linear(2, n_neurons)\n",
    "        self.output = nn.Linear(n_neurons, 1)\n",
    "        self.relu = nn.ReLU()\n",
    "        self.sigmoid = nn.Sigmoid()\n",
    "    \n",
    "    def forward(self, x):\n",
    "        x = self.relu(self.hidden(x))\n",
    "        x = self.sigmoid(self.output(x))\n",
    "        return x"
   ]
  },
  {
   "cell_type": "code",
   "execution_count": null,
   "metadata": {},
   "outputs": [],
   "source": [
    "#Treinamento da rede\n",
    "def train_model(n_neurons, epochs=1000, lr=0.01):\n",
    "    model = MLP(n_neurons)\n",
    "    criterion = nn.BCELoss()\n",
    "    optimizer = optim.Adam(model.parameters(), lr=lr)\n",
    "    \n",
    "    losses = []\n",
    "    val_losses = []\n",
    "    \n",
    "    for epoch in range(epochs):\n",
    "        model.train()\n",
    "        optimizer.zero_grad()\n",
    "        y_pred = model(X_train)\n",
    "        loss = criterion(y_pred, y_train)\n",
    "        loss.backward()\n",
    "        optimizer.step()\n",
    "        losses.append(loss.item())\n",
    "        \n",
    "        model.eval()\n",
    "        with torch.no_grad():\n",
    "            y_val_pred = model(X_val)\n",
    "            val_loss = criterion(y_val_pred, y_val)\n",
    "            val_losses.append(val_loss.item())\n",
    "    \n",
    "    return model, losses, val_losses"
   ]
  },
  {
   "cell_type": "code",
   "execution_count": null,
   "metadata": {},
   "outputs": [],
   "source": [
    "#Testando diferentes números de neurônios\n",
    "neurons_list = [5, 10, 20, 50]\n",
    "best_model = None\n",
    "best_val_loss = float('inf')\n",
    "best_neurons = 0\n",
    "\n",
    "plt.figure(figsize=(12, 6))\n",
    "\n",
    "for n in neurons_list:\n",
    "    model, losses, val_losses = train_model(n)\n",
    "    plt.plot(val_losses, label=f'{n} neurônios')\n",
    "    \n",
    "    if min(val_losses) < best_val_loss:\n",
    "        best_val_loss = min(val_losses)\n",
    "        best_model = model\n",
    "        best_neurons = n\n",
    "\n",
    "plt.xlabel('Épocas')\n",
    "plt.ylabel('Loss de Validação')\n",
    "plt.legend()\n",
    "plt.title('Evolução da Loss na Validação')\n",
    "plt.savefig(\"resultados/q3-evolucao-da-loss-na-validacao.png\")\n",
    "plt.show()\n",
    "\n",
    "# Avaliação no conjunto de teste\n",
    "best_model.eval()\n",
    "with torch.no_grad():\n",
    "    y_test_pred = best_model(X_test)\n",
    "    y_test_pred = (y_test_pred >= 0.5).float()\n",
    "    accuracy = (y_test_pred.eq(y_test).sum() / len(y_test)).item()\n",
    "    \n",
    "print(f'Melhor número de neurônios: {best_neurons}')\n",
    "print(f'Acurácia no conjunto de teste: {accuracy:.4f}')"
   ]
  },
  {
   "cell_type": "code",
   "execution_count": null,
   "metadata": {},
   "outputs": [],
   "source": [
    "# Avaliação no conjunto de teste\n",
    "best_model.eval()\n",
    "with torch.no_grad():\n",
    "    y_test_pred = best_model(X_test)\n",
    "    y_test_pred = (y_test_pred >= 0.5).float()\n",
    "    accuracy = (y_test_pred.eq(y_test).sum() / len(y_test)).item()\n",
    "    \n",
    "print(f'Melhor número de neurônios: {best_neurons}')\n",
    "print(f'Acurácia no conjunto de teste: {accuracy:.4f}')"
   ]
  },
  {
   "cell_type": "code",
   "execution_count": null,
   "metadata": {},
   "outputs": [],
   "source": [
    "# Visualização da Fronteira de Decisão\n",
    "def plot_decision_boundary(model, X, y):\n",
    "    x_min, x_max = X[:, 0].min() - 0.5, X[:, 0].max() + 0.5\n",
    "    y_min, y_max = X[:, 1].min() - 0.5, X[:, 1].max() + 0.5\n",
    "    xx, yy = np.meshgrid(np.linspace(x_min, x_max, 100), np.linspace(y_min, y_max, 100))\n",
    "    \n",
    "    grid = torch.tensor(np.c_[xx.ravel(), yy.ravel()], dtype=torch.float32)\n",
    "    with torch.no_grad():\n",
    "        preds = model(grid).numpy().reshape(xx.shape)\n",
    "    \n",
    "    plt.contourf(xx, yy, preds, alpha=0.5)\n",
    "    plt.scatter(X[:, 0], X[:, 1], c=y, edgecolor='k', cmap=plt.cm.coolwarm)\n",
    "    plt.title('Fronteira de Decisão')\n",
    "    plt.savefig(\"resultados/q3-fronteira-de-decisao.png\")\n",
    "    plt.show()\n",
    "\n",
    "plot_decision_boundary(best_model, X, y)"
   ]
  },
  {
   "cell_type": "markdown",
   "metadata": {},
   "source": [
    "### Questão 4: Classificação Multiclasse com MLP\n",
    "\n",
    "Agora, implemente uma rede neural para a classificação de imagens do conjunto MNIST.\n",
    "\n",
    "Faça os seguintes passos:\n",
    "- Carregue o conjunto de dados MNIST utilizando Torchvision ou Keras.\n",
    "- Normalize as imagens e divida em treino (80%) e teste (20%).\n",
    "- Implemente uma rede neural MLP com:\n",
    "    - Uma camada oculta de 128 neurônios e ativação ReLU.\n",
    "    - Uma camada oculta de 64 neurônios  e ativação ReLU.\n",
    "    - Uma camada de saida com 10 neurônios e ativação softmax.\n",
    "- Utilize a função de perda CrossEntropyLoss e o otimizador Adam our SGD.\n",
    "- Treine a rede por 10 épocas e avalie a acurácia no conjunto de teste.\n",
    "- Exiba algumas previsões feitas pelo modelo, mostrando imagens e suas respectivas classes previstas."
   ]
  },
  {
   "cell_type": "code",
   "execution_count": null,
   "metadata": {},
   "outputs": [],
   "source": [
    "import os\n",
    "import torch\n",
    "import torch.nn as nn\n",
    "import torch.optim as optim\n",
    "import torchvision\n",
    "import torchvision.transforms as transforms\n",
    "import matplotlib.pyplot as plt\n",
    "import numpy as np"
   ]
  },
  {
   "cell_type": "code",
   "execution_count": null,
   "metadata": {},
   "outputs": [],
   "source": [
    "os.makedirs(\"resultados\", exist_ok=True)"
   ]
  },
  {
   "cell_type": "code",
   "execution_count": null,
   "metadata": {},
   "outputs": [],
   "source": [
    "# Definir transformações para normalização\n",
    "transform = transforms.Compose([transforms.ToTensor(), transforms.Normalize((0.5,), (0.5,))])\n",
    "\n",
    "# Carregar dataset MNIST\n",
    "dataset = torchvision.datasets.MNIST(root='./data', train=True, download=True, transform=transform)\n",
    "train_size = int(0.8 * len(dataset))\n",
    "test_size = len(dataset) - train_size\n",
    "train_dataset, test_dataset = torch.utils.data.random_split(dataset, [train_size, test_size])\n",
    "\n",
    "# Criar DataLoaders\n",
    "train_loader = torch.utils.data.DataLoader(train_dataset, batch_size=64, shuffle=True)\n",
    "test_loader = torch.utils.data.DataLoader(test_dataset, batch_size=64, shuffle=False)"
   ]
  },
  {
   "cell_type": "code",
   "execution_count": null,
   "metadata": {},
   "outputs": [],
   "source": [
    "# Definir a MLP\n",
    "class MLP(nn.Module):\n",
    "    def __init__(self):\n",
    "        super(MLP, self).__init__()\n",
    "        self.fc1 = nn.Linear(28*28, 128)\n",
    "        self.relu1 = nn.ReLU()\n",
    "        self.fc2 = nn.Linear(128, 64)\n",
    "        self.relu2 = nn.ReLU()\n",
    "        self.fc3 = nn.Linear(64, 10)\n",
    "        self.softmax = nn.Softmax(dim=1)\n",
    "\n",
    "    def forward(self, x):\n",
    "        x = x.view(-1, 28*28)  # Flatten da imagem\n",
    "        x = self.relu1(self.fc1(x))\n",
    "        x = self.relu2(self.fc2(x))\n",
    "        x = self.fc3(x)  # Sem softmax aqui, pois CrossEntropyLoss já aplica\n",
    "        return x"
   ]
  },
  {
   "cell_type": "code",
   "execution_count": null,
   "metadata": {},
   "outputs": [],
   "source": [
    "# Inicializar modelo, loss e otimizador\n",
    "device = torch.device(\"cuda\" if torch.cuda.is_available() else \"cpu\")\n",
    "model = MLP().to(device)\n",
    "criterion = nn.CrossEntropyLoss()\n",
    "optimizer = optim.Adam(model.parameters(), lr=0.001)\n",
    "\n",
    "# Treinamento do modelo\n",
    "num_epochs = 10\n",
    "for epoch in range(num_epochs):\n",
    "    model.train()\n",
    "    running_loss = 0.0\n",
    "    for images, labels in train_loader:\n",
    "        images, labels = images.to(device), labels.to(device)\n",
    "        optimizer.zero_grad()\n",
    "        outputs = model(images)\n",
    "        loss = criterion(outputs, labels)\n",
    "        loss.backward()\n",
    "        optimizer.step()\n",
    "        running_loss += loss.item()\n",
    "    print(f\"Época {epoch+1}, Loss: {running_loss/len(train_loader):.4f}\")"
   ]
  },
  {
   "cell_type": "code",
   "execution_count": null,
   "metadata": {},
   "outputs": [],
   "source": [
    "# Avaliação do modelo\n",
    "model.eval()\n",
    "correct = 0\n",
    "total = 0\n",
    "with torch.no_grad():\n",
    "    for images, labels in test_loader:\n",
    "        images, labels = images.to(device), labels.to(device)\n",
    "        outputs = model(images)\n",
    "        _, predicted = torch.max(outputs, 1)\n",
    "        total += labels.size(0)\n",
    "        correct += (predicted == labels).sum().item()\n",
    "print(f'Acurácia no conjunto de teste: {100 * correct / total:.2f}%')"
   ]
  },
  {
   "cell_type": "code",
   "execution_count": null,
   "metadata": {},
   "outputs": [],
   "source": [
    "# Exibir algumas previsões\n",
    "images, labels = next(iter(test_loader))\n",
    "images, labels = images.to(device), labels.to(device)\n",
    "outputs = model(images)\n",
    "_, predicted = torch.max(outputs, 1)\n",
    "\n",
    "fig, axes = plt.subplots(1, 6, figsize=(12, 4))\n",
    "for i in range(6):\n",
    "    img = images[i].cpu().numpy().squeeze()\n",
    "    axes[i].imshow(img, cmap='gray')\n",
    "    axes[i].set_title(f'Pred: {predicted[i].item()}')\n",
    "    axes[i].axis('off')\n",
    "plt.savefig(\"resultados/q4-predicoes.png\")\n",
    "plt.show()"
   ]
  }
 ],
 "metadata": {
  "kernelspec": {
   "display_name": "Python 3",
   "language": "python",
   "name": "python3"
  },
  "language_info": {
   "codemirror_mode": {
    "name": "ipython",
    "version": 3
   },
   "file_extension": ".py",
   "mimetype": "text/x-python",
   "name": "python",
   "nbconvert_exporter": "python",
   "pygments_lexer": "ipython3",
   "version": "3.11.4"
  }
 },
 "nbformat": 4,
 "nbformat_minor": 2
}
