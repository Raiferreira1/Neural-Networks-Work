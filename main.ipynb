{
 "cells": [
  {
   "cell_type": "markdown",
   "metadata": {},
   "source": [
    "# Neural networks work"
   ]
  },
  {
   "cell_type": "markdown",
   "metadata": {},
   "source": [
    "## Question 1: Linear Regression.\n",
    "\n",
    "Implemente um modelo de regressão linear. Para isso, utilize um conjunto de dados sintético gerado com a equação:\n",
    "\n",
    "\n",
    "\\[\n",
    "y = 3x + 5 + epsilon \n",
    "\\]\n",
    "\n",
    "Onde:\n",
    "- \\(x\\) segue uma distribuição uniforme entre -10 e 10.\n",
    "- \\(epsilon\\) é um ruído gaussiano com média zero e desvio padrão de 2.\n",
    "\n",
    "### Passos para Implementação\n",
    "\n",
    "1. **Gerar os dados sintéticos**:\n",
    "   - Gere um conjunto de dados para \\(x\\) com uma distribuição uniforme entre -10 e 10.\n",
    "   - Adicione o ruído gaussiano \\(\\epsilon\\) com média zero e desvio padrão de 2.\n",
    "\n",
    "\n"
   ]
  },
  {
   "cell_type": "code",
   "execution_count": 18,
   "metadata": {},
   "outputs": [],
   "source": [
    "import numpy as np\n",
    "import matplotlib.pyplot as plt\n",
    "from sklearn.utils import shuffle\n"
   ]
  },
  {
   "cell_type": "code",
   "execution_count": 19,
   "metadata": {},
   "outputs": [],
   "source": [
    "\n",
    "# Gerar dados sintéticos\n",
    "np.random.seed(0)\n",
    "\n",
    "# Parâmetros da equação\n",
    "a = 3  # Coeficiente angular\n",
    "b = 5  # Coeficiente linear/Termo de intercepto\n",
    "sigma = 2  # Desvio padrão do ruído Gaussiano \n",
    "\n",
    "x = np.random.uniform(-10, 10, 100)\n",
    "epsilon = np.random.normal(0, sigma, 100)\n",
    "y = a * x + b + epsilon\n",
    "\n",
    "\n",
    "# Embaralhar os dados\n",
    "x, y = shuffle(x, y, random_state=0)\n",
    "\n",
    "# Dividir os dados em treino (80%) e teste (20%)\n",
    "train_size = int(0.8 * len(x))\n",
    "x_train, x_test = x[:train_size], x[train_size:]\n",
    "y_train, y_test = y[:train_size], y[train_size:]"
   ]
  },
  {
   "cell_type": "markdown",
   "metadata": {},
   "source": [
    "**Dados Sinteticos**"
   ]
  },
  {
   "cell_type": "code",
   "execution_count": 20,
   "metadata": {},
   "outputs": [
    {
     "data": {
      "image/png": "[encoded data removed]",
      "text/plain": [
       "<Figure size 640x480 with 1 Axes>"
      ]
     },
     "metadata": {},
     "output_type": "display_data"
    }
   ],
   "source": [
    "# Visualizar os dados\n",
    "plt.scatter(x, y, label='Dados Sintéticos')\n",
    "plt.xlabel('x')\n",
    "plt.ylabel('y')\n",
    "plt.legend()\n",
    "plt.show()"
   ]
  },
  {
   "cell_type": "markdown",
   "metadata": {},
   "source": [
    "2. **Ajustar o modelo de regressão linear**:\n",
    "   - Utilize a equação de regressão linear \\(y = 3x + 5 + \\epsilon\\) para gerar o vetor \\(y\\).\n",
    "   - Aplique um modelo de regressão linear para ajustar os dados gerados e estimar os coeficientes."
   ]
  },
  {
   "cell_type": "code",
   "execution_count": null,
   "metadata": {},
   "outputs": [],
   "source": [
    "pass"
   ]
  },
  {
   "cell_type": "markdown",
   "metadata": {},
   "source": [
    "3. **Avaliar o modelo**:\n",
    "   - Verifique os coeficientes estimados pelo modelo e compare com os valores reais (3 e 5).\n",
    "   - Analise o erro médio quadrático (MSE) do modelo."
   ]
  },
  {
   "cell_type": "code",
   "execution_count": null,
   "metadata": {},
   "outputs": [],
   "source": [
    "pass"
   ]
  },
  {
   "cell_type": "markdown",
   "metadata": {},
   "source": [
    "4. **Visualizar os resultados**:\n",
    "   - Plote os dados gerados e a linha de regressão ajustada para verificar a qualidade do modelo."
   ]
  },
  {
   "cell_type": "code",
   "execution_count": null,
   "metadata": {},
   "outputs": [],
   "source": [
    "pass"
   ]
  }
 ],
 "metadata": {
  "kernelspec": {
   "display_name": "Python 3",
   "language": "python",
   "name": "python3"
  },
  "language_info": {
   "codemirror_mode": {
    "name": "ipython",
    "version": 3
   },
   "file_extension": ".py",
   "mimetype": "text/x-python",
   "name": "python",
   "nbconvert_exporter": "python",
   "pygments_lexer": "ipython3",
   "version": "3.11.9"
  }
 },
 "nbformat": 4,
 "nbformat_minor": 2
}
